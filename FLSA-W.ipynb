{
 "cells": [
  {
   "cell_type": "code",
   "execution_count": 3,
   "id": "45171b5d",
   "metadata": {},
   "outputs": [],
   "source": [
    "import pandas as pd\n",
    "from nltk.tokenize import word_tokenize\n",
    "from nltk.corpus import stopwords\n",
    "from nltk.stem import WordNetLemmatizer\n",
    "from gensim.corpora import Dictionary\n",
    "from gensim.models.ldamodel import LdaModel\n",
    "import nltk\n",
    "from gensim.utils import simple_preprocess\n",
    "from gensim.utils import simple_preprocess\n",
    "from nltk.corpus import stopwords\n",
    "from nltk.stem import WordNetLemmatizer\n",
    "from gensim.corpora import Dictionary\n",
    "from gensim.models.ldamodel import LdaModel\n",
    "from gensim.models import CoherenceModel\n",
    "import matplotlib.pyplot as plt\n",
    "from sklearn.decomposition import TruncatedSVD\n",
    "from sklearn.feature_extraction.text import TfidfVectorizer\n",
    "\n",
    "#nltk.download('stopwords')\n",
    "#nltk.download('wordnet')\n"
   ]
  },
  {
   "cell_type": "code",
   "execution_count": 11,
   "id": "bb28897c",
   "metadata": {},
   "outputs": [],
   "source": [
    "# Load the data\n",
    "news_df = pd.read_csv('us_equities_news_dataset.csv') \n",
    "news_df['content'] = news_df['content'].fillna('')\n",
    "texts = news_df['content'].tolist()"
   ]
  },
  {
   "cell_type": "code",
   "execution_count": 12,
   "id": "c85b19f5",
   "metadata": {},
   "outputs": [],
   "source": [
    "lemmatizer = WordNetLemmatizer()\n",
    "stop_words = set(stopwords.words('english'))\n",
    "\n",
    "def preprocess(text):\n",
    "    tokens = simple_preprocess(text)  # Tokenization and lowercasing\n",
    "    tokens = [lemmatizer.lemmatize(word) for word in tokens if word not in stop_words]\n",
    "    return tokens"
   ]
  },
  {
   "cell_type": "code",
   "execution_count": 3,
   "id": "fb5b1c44",
   "metadata": {},
   "outputs": [
    {
     "name": "stdout",
     "output_type": "stream",
     "text": [
      "       ticker                                              title release_date\n",
      "24        NIO  A Central Bank War Just Started And Its Good F...   2019-03-07\n",
      "32        NIO         6 Stocks To Watch  Nivida Could Be Falling   2019-03-06\n",
      "57        NIO  Stocks   Dow Drops Nearly 400 Points as Apple ...   2018-11-19\n",
      "78       UBER  The Zacks Analyst Blog Highlights  Advanced Mi...   2020-01-12\n",
      "82       UBER                     The Best Of CES 2020  Revised    2020-01-16\n",
      "...       ...                                                ...          ...\n",
      "221198    AMD  7 Tech Stocks With SMA50 Above SMA200 And High...   2012-12-07\n",
      "221202    AMD                           Deceased Rubber Felines    2012-11-25\n",
      "221229    PFE          Durata Therapeutics  DRTX  Pre IPO Report   2012-07-19\n",
      "221468      T  Zacks com Featured Highlights  AT T  Nu Skin E...   2016-07-21\n",
      "221471      T  5 Dividend Growth Stocks To Sail Through Uncer...   2016-07-20\n",
      "\n",
      "[7256 rows x 3 columns]\n"
     ]
    }
   ],
   "source": [
    "#Filter the news dataset for the articles that contain knowledge about NVidia.\n",
    "#These can be abbravations for Nvidia or just the name so this list contains words I'm searchinmg for in filtering the dataset\n",
    "#by checking if all content or title contain \"nvidia_terms\" list.\n",
    "nvidia_terms = [\n",
    "    'Nvidia', 'NVDA', 'N V D I A', 'Nvidia Corporation', 'NVIDIA Corp', \n",
    "    'NVIDIA GPUs', 'NVIDIA graphics', 'NVIDIA chip', 'NVIDIA cards', \n",
    "    'Nvidia GeForce', 'GeForce', 'Nvidia Quadro', 'NVIDIA AI', \n",
    "    'NVIDIA Tegra', 'Nvidia Drive', 'Nvidia RTX', 'RTX', \n",
    "    'NVIDIA DGX', 'NVIDIA Shield', 'CUDA', 'NVIDIA Jetson', \n",
    "    'NVIDIA Omniverse', 'NVIDIA Hopper', 'NVIDIA architecture',\n",
    "    'Nvidia hardware', 'Nvidia software', 'NVIDIA tech'\n",
    "]\n",
    "\n",
    "#Second filtering is applied to tickers to find the some companies that can affect the price. \n",
    "#My research shows AMD and Intel are the biggest competitors for Nvidia so I'm also including articles with ticker = 'AMD,INTC'\n",
    "filtered_news_df = news_df[\n",
    "    (news_df['title'].str.contains('|'.join(nvidia_terms), case=False, na=False)) |\n",
    "    (news_df['content'].str.contains('|'.join(nvidia_terms), case=False, na=False)) |\n",
    "    (news_df['ticker'].isin(['AMD', 'INTC']))  # Filter for AMD and Intel tickers\n",
    "]\n",
    "\n",
    "# Display the filtered DataFrame with Nvidia, AMD, and Intel related articles\n",
    "print(filtered_news_df[['ticker', 'title', 'release_date']])\n",
    "filtered_news_df = filtered_news_df.drop_duplicates()"
   ]
  },
  {
   "cell_type": "code",
   "execution_count": 30,
   "id": "ea53c714",
   "metadata": {},
   "outputs": [],
   "source": [
    "filtered_news_df = pd.read_csv('filtered_news_df.csv')"
   ]
  },
  {
   "cell_type": "code",
   "execution_count": 4,
   "id": "38c5df9b",
   "metadata": {},
   "outputs": [],
   "source": [
    "#filtered_news_df.to_csv('filtered_news_df.csv',index=False)"
   ]
  },
  {
   "cell_type": "code",
   "execution_count": 31,
   "id": "f2a0e4af",
   "metadata": {},
   "outputs": [],
   "source": [
    "filtered_news_df['processed_text'] = filtered_news_df['content'].fillna('').apply(preprocess)"
   ]
  },
  {
   "cell_type": "code",
   "execution_count": 32,
   "id": "d1c083d1",
   "metadata": {},
   "outputs": [
    {
     "data": {
      "text/plain": [
       "0    [ecb, effect, move, euro, huge, falling, pip, ...\n",
       "1    [stock, watch, march, trading, session, stock,...\n",
       "2    [investing, com, rout, apple, facebook, nasdaq...\n",
       "3    [immediate, releasechicago, il, january, zacks...\n",
       "4    [company, bringing, innovation, ce, jan, get, ...\n",
       "Name: processed_text, dtype: object"
      ]
     },
     "execution_count": 32,
     "metadata": {},
     "output_type": "execute_result"
    }
   ],
   "source": [
    "filtered_news_df['processed_text'].head(5)"
   ]
  },
  {
   "cell_type": "code",
   "execution_count": 33,
   "id": "8a14926b",
   "metadata": {},
   "outputs": [
    {
     "data": {
      "text/plain": [
       "Index(['id', 'ticker', 'title', 'category', 'content', 'release_date',\n",
       "       'provider', 'url', 'article_id', 'processed_text'],\n",
       "      dtype='object')"
      ]
     },
     "execution_count": 33,
     "metadata": {},
     "output_type": "execute_result"
    }
   ],
   "source": [
    "filtered_news_df.columns"
   ]
  },
  {
   "cell_type": "code",
   "execution_count": 23,
   "id": "194c7525",
   "metadata": {},
   "outputs": [],
   "source": [
    "#Join all preprocessed text for FLSA-W\n",
    "all_tokens = sum(filtered_news_df['processed_text'], [])  \n",
    "merged_string = ' '.join(all_tokens)"
   ]
  },
  {
   "cell_type": "code",
   "execution_count": 34,
   "id": "0ab2d10d",
   "metadata": {},
   "outputs": [],
   "source": [
    "# Convert each list of tokens in 'processed_text' to a single string\n",
    "filtered_news_df['processed_text'] = filtered_news_df['processed_text'].apply(lambda x: ' '.join(x))"
   ]
  },
  {
   "cell_type": "code",
   "execution_count": 35,
   "id": "e5870d4d",
   "metadata": {},
   "outputs": [],
   "source": [
    "filtered_news_df.to_csv('filtered_processed_df.csv',index=False)"
   ]
  },
  {
   "cell_type": "code",
   "execution_count": 36,
   "id": "73a47bd3",
   "metadata": {},
   "outputs": [
    {
     "name": "stdout",
     "output_type": "stream",
     "text": [
      "Topic 1:  rose rank growth billion nvidia percent estimate revenue quarter zacks\n",
      "Topic 2:  buy esp growth million consensus revenue rank estimate quarter zacks\n",
      "Topic 3:  start range highest volume gmt day seven lowest nvidia traded\n",
      "Topic 4:  bank data amd china qualcomm apple reuters chip said percent\n",
      "Topic 5:  reported estimate consensus billion cent gaap million revenue quarter percent\n"
     ]
    }
   ],
   "source": [
    "# Now apply TF-IDF\n",
    "vectorizer = TfidfVectorizer(max_df=0.5, min_df=2, stop_words='english')\n",
    "tfidf_matrix = vectorizer.fit_transform(filtered_news_df['processed_text'])"
   ]
  },
  {
   "cell_type": "code",
   "execution_count": 41,
   "id": "16300a88",
   "metadata": {},
   "outputs": [],
   "source": [
    "n_topics = 5\n",
    "svd_model = TruncatedSVD(n_components=n_topics, random_state=42)\n",
    "lsa_matrix = svd_model.fit_transform(tfidf_matrix)"
   ]
  },
  {
   "cell_type": "code",
   "execution_count": 42,
   "id": "0d38ff7b",
   "metadata": {},
   "outputs": [
    {
     "name": "stdout",
     "output_type": "stream",
     "text": [
      "Topic 1:  rose rank growth billion nvidia percent estimate revenue quarter zacks\n",
      "Topic 2:  buy esp growth million consensus revenue rank estimate quarter zacks\n",
      "Topic 3:  start range highest volume gmt day seven lowest nvidia traded\n",
      "Topic 4:  bank data amd china qualcomm apple reuters chip said percent\n",
      "Topic 5:  reported estimate consensus billion cent gaap million revenue quarter percent\n"
     ]
    }
   ],
   "source": [
    "# Display Topics\n",
    "terms = vectorizer.get_feature_names_out()\n",
    "for idx, topic in enumerate(svd_model.components_):\n",
    "    print(f\"Topic {idx + 1}: \", \" \".join([terms[i] for i in topic.argsort()[-10:]]))"
   ]
  },
  {
   "cell_type": "markdown",
   "id": "d4f295b2",
   "metadata": {},
   "source": [
    "Summary of Each Topic’s Role\n",
    "Topic 1 and Topic 2 focus on financial performance and growth metrics specifically related to Nvidia, with one leaning more towards growth metrics (Topic 1) and the other on analyst recommendations and predictions (Topic 2).\n",
    "Topic 3 covers stock trading activity and market behavior, providing insights into Nvidia’s stock price movements and trading volumes.\n",
    "Topic 4 broadens the view to include industry news and external factors affecting Nvidia and its competitors, with attention to market dynamics influenced by major tech players and geopolitical events.\n",
    "Topic 5 zeroes in on earnings reports and revenue—the financial backbone of Nvidia’s quarterly performance.\n",
    "\n",
    "Generated by chatgpt for the topics above"
   ]
  },
  {
   "cell_type": "code",
   "execution_count": 37,
   "id": "63a5e59c",
   "metadata": {},
   "outputs": [],
   "source": [
    "def calculate_explained_variance(tfidf_matrix, topic_range):\n",
    "    explained_variances = []\n",
    "    models = {}\n",
    "    for n_topics in topic_range:\n",
    "        svd_model = TruncatedSVD(n_components=n_topics, random_state=42)\n",
    "        svd_model.fit(tfidf_matrix)\n",
    "        explained_variances.append(svd_model.explained_variance_ratio_.sum())\n",
    "        \n",
    "        # Save the model in memory\n",
    "        models[n_topics] = svd_model\n",
    "    \n",
    "    return explained_variances, models"
   ]
  },
  {
   "cell_type": "code",
   "execution_count": 43,
   "id": "c316ac1b",
   "metadata": {},
   "outputs": [],
   "source": [
    "topic_range = range(2, 11)\n",
    "explained_variances, models = calculate_explained_variance(tfidf_matrix, topic_range)"
   ]
  },
  {
   "cell_type": "code",
   "execution_count": 44,
   "id": "74bff1a4",
   "metadata": {},
   "outputs": [
    {
     "data": {
      "image/png": "[encoded data removed]",
      "text/plain": [
       "<Figure size 1000x600 with 1 Axes>"
      ]
     },
     "metadata": {},
     "output_type": "display_data"
    }
   ],
   "source": [
    "plt.figure(figsize=(10, 6))\n",
    "plt.plot(topic_range, explained_variances, marker='o')\n",
    "plt.xlabel(\"Number of Topics\")\n",
    "plt.ylabel(\"Explained Variance\")\n",
    "plt.title(\"Elbow Plot for Optimal Number of Topics\")\n",
    "plt.xticks(topic_range)\n",
    "plt.grid(True)\n",
    "plt.show()"
   ]
  },
  {
   "cell_type": "code",
   "execution_count": 2,
   "id": "c504639e",
   "metadata": {},
   "outputs": [],
   "source": [
    "filtered_processed_df = pd.read_csv('filtered_processed_df.csv')"
   ]
  },
  {
   "cell_type": "code",
   "execution_count": 3,
   "id": "04dc6c68",
   "metadata": {},
   "outputs": [],
   "source": [
    "# Now apply TF-IDF\n",
    "vectorizer = TfidfVectorizer(max_df=0.5, min_df=2, stop_words='english')\n",
    "tfidf_matrix2 = vectorizer.fit_transform(filtered_processed_df['processed_text'])"
   ]
  },
  {
   "cell_type": "code",
   "execution_count": 5,
   "id": "f523b567",
   "metadata": {},
   "outputs": [],
   "source": [
    "n_topics = 8\n",
    "svd_model = TruncatedSVD(n_components=n_topics, random_state=42)\n",
    "lsa_matrix = svd_model.fit_transform(tfidf_matrix2)"
   ]
  },
  {
   "cell_type": "code",
   "execution_count": 6,
   "id": "60b01289",
   "metadata": {},
   "outputs": [
    {
     "name": "stdout",
     "output_type": "stream",
     "text": [
      "Topic 1:  rose rank growth billion nvidia percent estimate revenue quarter zacks\n",
      "Topic 2:  buy esp growth million consensus revenue rank estimate quarter zacks\n",
      "Topic 3:  start range highest volume gmt day seven lowest nvidia traded\n",
      "Topic 4:  bank amd data china qualcomm apple reuters chip said percent\n",
      "Topic 5:  reported estimate consensus billion cent gaap million revenue quarter percent\n",
      "Topic 6:  said billion driving apple million revenue qualcomm nvidia chip amd\n",
      "Topic 7:  ratio rank driving industry close investment performer settle zacks percent\n",
      "Topic 8:  price radeon processor advanced gpu gaming nvidia graphic micro amd\n"
     ]
    }
   ],
   "source": [
    "# Display Topics\n",
    "terms = vectorizer.get_feature_names_out()\n",
    "for idx, topic in enumerate(svd_model.components_):\n",
    "    print(f\"Topic {idx + 1}: \", \" \".join([terms[i] for i in topic.argsort()[-10:]]))"
   ]
  },
  {
   "cell_type": "code",
   "execution_count": 9,
   "id": "10645991",
   "metadata": {},
   "outputs": [],
   "source": [
    "new_df = pd.read_csv('data_cleaned.csv')"
   ]
  },
  {
   "cell_type": "code",
   "execution_count": 10,
   "id": "3062831b",
   "metadata": {},
   "outputs": [],
   "source": [
    "processed_texts_filtered = new_df['content']"
   ]
  },
  {
   "cell_type": "code",
   "execution_count": 11,
   "id": "774d45dc",
   "metadata": {},
   "outputs": [],
   "source": [
    "# Now apply TF-IDF\n",
    "vectorizer = TfidfVectorizer(max_df=0.5, min_df=2, stop_words='english')\n",
    "tfidf_matrix2 = vectorizer.fit_transform(processed_texts_filtered)"
   ]
  },
  {
   "cell_type": "code",
   "execution_count": 12,
   "id": "7f55e8ac",
   "metadata": {},
   "outputs": [],
   "source": [
    "n_topics = 8\n",
    "svd_model = TruncatedSVD(n_components=n_topics, random_state=42)\n",
    "lsa_matrix = svd_model.fit_transform(tfidf_matrix2)"
   ]
  },
  {
   "cell_type": "code",
   "execution_count": 13,
   "id": "a0b15b60",
   "metadata": {},
   "outputs": [
    {
     "name": "stdout",
     "output_type": "stream",
     "text": [
      "Topic 1:  share past day consensus estimate revenues rank million trade traded\n",
      "Topic 2:  investing start session volume highest exchange lowest seven gmt traded\n",
      "Topic 3:  futures week dow fell trade close rose index points percent\n",
      "Topic 4:  non close consensus rose performers cents points gaap revenues million\n",
      "Topic 5:  autonomous graphics gaming self chips driving said intel amd percent\n",
      "Topic 6:  thursday forecast reuters week analysts sales said million revenue percent\n",
      "Topic 7:  pc ryzen micro gpus intel radeon graphics gaming gpu amd\n",
      "Topic 8:  recommendation advice analyst securities settle rose performers research investment percent\n"
     ]
    }
   ],
   "source": [
    "# Display Topics\n",
    "terms = vectorizer.get_feature_names_out()\n",
    "for idx, topic in enumerate(svd_model.components_):\n",
    "    print(f\"Topic {idx + 1}: \", \" \".join([terms[i] for i in topic.argsort()[-10:]]))"
   ]
  },
  {
   "cell_type": "code",
   "execution_count": null,
   "id": "b35d70b9",
   "metadata": {},
   "outputs": [],
   "source": []
  }
 ],
 "metadata": {
  "kernelspec": {
   "display_name": "Python [conda env:my_nlp_env] *",
   "language": "python",
   "name": "conda-env-my_nlp_env-py"
  },
  "language_info": {
   "codemirror_mode": {
    "name": "ipython",
    "version": 3
   },
   "file_extension": ".py",
   "mimetype": "text/x-python",
   "name": "python",
   "nbconvert_exporter": "python",
   "pygments_lexer": "ipython3",
   "version": "3.12.4"
  }
 },
 "nbformat": 4,
 "nbformat_minor": 5
}
