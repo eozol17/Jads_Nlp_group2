{
 "cells": [
  {
   "cell_type": "code",
   "execution_count": 1,
   "id": "2cf0fc41",
   "metadata": {},
   "outputs": [],
   "source": [
    "import pandas as pd\n",
    "from nltk.tokenize import word_tokenize\n",
    "from nltk.corpus import stopwords\n",
    "from nltk.stem import WordNetLemmatizer\n",
    "from gensim.corpora import Dictionary\n",
    "from gensim.models.ldamodel import LdaModel\n",
    "import nltk\n",
    "from gensim.utils import simple_preprocess\n",
    "from gensim.utils import simple_preprocess\n",
    "from nltk.corpus import stopwords\n",
    "from nltk.stem import WordNetLemmatizer\n",
    "from gensim.corpora import Dictionary\n",
    "from gensim.models.ldamodel import LdaModel\n",
    "from gensim.models import CoherenceModel\n",
    "import matplotlib.pyplot as plt\n",
    "\n",
    "\n",
    "#nltk.download('stopwords')\n",
    "#nltk.download('wordnet')"
   ]
  },
  {
   "cell_type": "code",
   "execution_count": null,
   "id": "9ae32f12",
   "metadata": {},
   "outputs": [],
   "source": [
    "# Load the data\n",
    "news_df = pd.read_csv('us_equities_news_dataset.csv') \n",
    "news_df['content'] = news_df['content'].fillna('')\n",
    "texts = news_df['content'].tolist()"
   ]
  },
  {
   "cell_type": "code",
   "execution_count": 2,
   "id": "53dfdd03",
   "metadata": {},
   "outputs": [],
   "source": [
    "lemmatizer = WordNetLemmatizer()\n",
    "stop_words = set(stopwords.words('english'))\n",
    "\n",
    "def preprocess(text):\n",
    "    tokens = simple_preprocess(text)  # Tokenization and lowercasing\n",
    "    tokens = [lemmatizer.lemmatize(word) for word in tokens if word not in stop_words]\n",
    "    return tokens\n",
    "\n",
    "#processed_texts = [preprocess(text) for text in texts]"
   ]
  },
  {
   "cell_type": "code",
   "execution_count": 3,
   "id": "c902bbe2",
   "metadata": {},
   "outputs": [],
   "source": [
    "#predf = pd.DataFrame({'processed_text': [' '.join(text) for text in processed_texts]})\n",
    "#predf.to_csv(\"processed_texts.csv\", index=False)"
   ]
  },
  {
   "cell_type": "code",
   "execution_count": 4,
   "id": "3aed0315",
   "metadata": {},
   "outputs": [],
   "source": [
    "processed_texts = pd.read_csv('processed_texts.csv')"
   ]
  },
  {
   "cell_type": "code",
   "execution_count": 5,
   "id": "8b20e9c0",
   "metadata": {},
   "outputs": [],
   "source": [
    "processed_texts['processed_text'] = processed_texts['processed_text'].fillna('')\n",
    "processed_texts = processed_texts['processed_text'].apply(lambda x: x.split()).tolist()"
   ]
  },
  {
   "cell_type": "code",
   "execution_count": 6,
   "id": "aec9baa4",
   "metadata": {},
   "outputs": [],
   "source": [
    "# Create Dictionary\n",
    "dictionary = Dictionary(processed_texts)\n",
    "\n",
    "# Filter extremes (optional)\n",
    "dictionary.filter_extremes(no_below=5, no_above=0.5)\n",
    "\n",
    "# Create Corpus\n",
    "corpus = [dictionary.doc2bow(text) for text in processed_texts]\n"
   ]
  },
  {
   "cell_type": "code",
   "execution_count": 29,
   "id": "d0809feb",
   "metadata": {},
   "outputs": [],
   "source": [
    "#With 10 Passes\n",
    "def compute_coherence_values_passes_10(dictionary, corpus, texts, limit, start=2, step=1):\n",
    "    coherence_values = []\n",
    "    model_list = []\n",
    "    for num_topics in range(start, limit, step):\n",
    "        # Train LDA model\n",
    "        model = LdaModel(corpus=corpus,\n",
    "                         id2word=dictionary,\n",
    "                         num_topics=num_topics,\n",
    "                         random_state=42,\n",
    "                         passes=10,\n",
    "                         alpha='auto',\n",
    "                         eta='auto')\n",
    "        \n",
    "        # Store model and coherence score\n",
    "        model_list.append(model)\n",
    "        coherencemodel = CoherenceModel(model=model, texts=texts, dictionary=dictionary, coherence='c_v')\n",
    "        coherence_values.append(coherencemodel.get_coherence())\n",
    "\n",
    "    return model_list, coherence_values"
   ]
  },
  {
   "cell_type": "code",
   "execution_count": 30,
   "id": "3482f3e6",
   "metadata": {},
   "outputs": [],
   "source": [
    "#With 5 Passes\n",
    "def compute_coherence_values_passes_5(dictionary, corpus, texts, limit, start=2, step=1):\n",
    "    coherence_values = []\n",
    "    model_list = []\n",
    "    for num_topics in range(start, limit, step):\n",
    "        # Train LDA model\n",
    "        model = LdaModel(corpus=corpus,\n",
    "                         id2word=dictionary,\n",
    "                         num_topics=num_topics,\n",
    "                         random_state=42,\n",
    "                         passes=10,\n",
    "                         alpha='auto',\n",
    "                         eta='auto')\n",
    "        \n",
    "        # Store model and coherence score\n",
    "        model_list.append(model)\n",
    "        coherencemodel = CoherenceModel(model=model, texts=texts, dictionary=dictionary, coherence='c_v')\n",
    "        coherence_values.append(coherencemodel.get_coherence())\n",
    "\n",
    "    return model_list, coherence_values"
   ]
  },
  {
   "cell_type": "code",
   "execution_count": 11,
   "id": "784123ac",
   "metadata": {},
   "outputs": [
    {
     "name": "stdout",
     "output_type": "stream",
     "text": [
      "Topic 1: 0.010*\"percent\" + 0.008*\"rate\" + 0.008*\"week\" + 0.007*\"oil\" + 0.007*\"month\" + 0.006*\"bank\" + 0.006*\"index\" + 0.006*\"trade\" + 0.006*\"point\" + 0.005*\"dollar\"\n",
      "Topic 2: 0.033*\"quarter\" + 0.033*\"earnings\" + 0.023*\"zacks\" + 0.022*\"estimate\" + 0.020*\"million\" + 0.018*\"revenue\" + 0.014*\"billion\" + 0.014*\"consensus\" + 0.013*\"per\" + 0.011*\"rank\"\n",
      "Topic 3: 0.020*\"said\" + 0.006*\"would\" + 0.005*\"reuters\" + 0.005*\"bank\" + 0.004*\"billion\" + 0.004*\"one\" + 0.004*\"state\" + 0.004*\"percent\" + 0.004*\"two\" + 0.004*\"million\"\n",
      "Topic 4: 0.011*\"investor\" + 0.010*\"fund\" + 0.010*\"zacks\" + 0.008*\"investment\" + 0.007*\"ratio\" + 0.006*\"value\" + 0.006*\"growth\" + 0.006*\"dividend\" + 0.006*\"industry\" + 0.006*\"rank\"\n",
      "Topic 5: 0.011*\"inc\" + 0.009*\"service\" + 0.007*\"business\" + 0.007*\"customer\" + 0.007*\"growth\" + 0.006*\"network\" + 0.006*\"technology\" + 0.006*\"product\" + 0.006*\"sale\" + 0.005*\"mobile\"\n"
     ]
    }
   ],
   "source": [
    "# Train LDA model with an example of 5 topics\n",
    "lda_model = LdaModel(corpus=corpus,\n",
    "                     id2word=dictionary,\n",
    "                     num_topics=5,  # Experiment with different numbers of topics\n",
    "                     random_state=42,\n",
    "                     passes=10,\n",
    "                     alpha='auto',\n",
    "                     eta='auto')\n",
    "\n",
    "# Display the topics\n",
    "for idx, topic in lda_model.print_topics(-1):\n",
    "    print(f\"Topic {idx+1}: {topic}\")"
   ]
  },
  {
   "cell_type": "code",
   "execution_count": 17,
   "id": "9cec69b4",
   "metadata": {},
   "outputs": [
    {
     "data": {
      "image/png": "[encoded data removed]",
      "text/plain": [
       "<Figure size 640x480 with 1 Axes>"
      ]
     },
     "metadata": {},
     "output_type": "display_data"
    }
   ],
   "source": [
    "# Test coherence for topics between 5 and 8 with 5 passes on whole corpus\n",
    "model_list, coherence_values = compute_coherence_values_passes_5(dictionary=dictionary, corpus=corpus, texts=processed_texts, start=5, limit=8)\n",
    "\n",
    "# Plot coherence values\n",
    "x = range(5, 8)\n",
    "plt.plot(x, coherence_values)\n",
    "plt.xlabel(\"Number of Topics\")\n",
    "plt.ylabel(\"Coherence Score\")\n",
    "plt.title(\"Optimal Number of Topics\")\n",
    "plt.show()\n"
   ]
  },
  {
   "cell_type": "code",
   "execution_count": null,
   "id": "4f078827",
   "metadata": {},
   "outputs": [],
   "source": [
    "#With 10 passes on the whole corpus\n",
    "model_list, coherence_values = compute_coherence_values_passes_10(dictionary=dictionary, corpus=corpus, texts=processed_texts, start=9, limit=13)\n",
    "\n",
    "x = range(9, 13)\n",
    "plt.plot(x, coherence_values)\n",
    "plt.xlabel(\"Number of Topics\")\n",
    "plt.ylabel(\"Coherence Score\")\n",
    "plt.title(\"Optimal Number of Topics\")\n",
    "plt.show()\n",
    "                                                                  "
   ]
  },
  {
   "cell_type": "code",
   "execution_count": 11,
   "id": "89b17bde",
   "metadata": {},
   "outputs": [
    {
     "name": "stdout",
     "output_type": "stream",
     "text": [
      "Topic 1: 0.016*\"percent\" + 0.011*\"rate\" + 0.009*\"bank\" + 0.009*\"month\" + 0.008*\"week\" + 0.008*\"index\" + 0.007*\"dollar\" + 0.007*\"fed\" + 0.006*\"data\" + 0.006*\"economy\"\n",
      "Topic 2: 0.055*\"oil\" + 0.026*\"energy\" + 0.021*\"gas\" + 0.019*\"production\" + 0.018*\"barrel\" + 0.015*\"crude\" + 0.013*\"point\" + 0.010*\"million\" + 0.010*\"trade\" + 0.010*\"natural\"\n",
      "Topic 3: 0.008*\"time\" + 0.007*\"one\" + 0.006*\"point\" + 0.005*\"like\" + 0.005*\"see\" + 0.005*\"back\" + 0.005*\"well\" + 0.005*\"would\" + 0.004*\"think\" + 0.004*\"going\"\n",
      "Topic 4: 0.020*\"zacks\" + 0.017*\"fund\" + 0.015*\"investor\" + 0.013*\"investment\" + 0.011*\"ratio\" + 0.011*\"industry\" + 0.010*\"rank\" + 0.010*\"growth\" + 0.010*\"earnings\" + 0.010*\"dividend\"\n",
      "Topic 5: 0.009*\"drug\" + 0.008*\"zacks\" + 0.008*\"product\" + 0.007*\"inc\" + 0.007*\"growth\" + 0.006*\"patient\" + 0.006*\"study\" + 0.006*\"rank\" + 0.005*\"treatment\" + 0.005*\"sale\"\n",
      "Topic 6: 0.040*\"quarter\" + 0.038*\"earnings\" + 0.024*\"estimate\" + 0.023*\"revenue\" + 0.022*\"million\" + 0.021*\"zacks\" + 0.015*\"billion\" + 0.015*\"consensus\" + 0.013*\"per\" + 0.010*\"rank\"\n",
      "Topic 7: 0.030*\"said\" + 0.008*\"reuters\" + 0.008*\"bank\" + 0.008*\"would\" + 0.006*\"state\" + 0.005*\"billion\" + 0.004*\"deal\" + 0.004*\"million\" + 0.004*\"percent\" + 0.004*\"trump\"\n",
      "Topic 8: 0.009*\"service\" + 0.008*\"gm\" + 0.008*\"network\" + 0.008*\"sale\" + 0.008*\"inc\" + 0.008*\"billion\" + 0.007*\"customer\" + 0.007*\"mobile\" + 0.007*\"said\" + 0.006*\"technology\"\n"
     ]
    }
   ],
   "source": [
    "# Train LDA model with an example of 8 topic\n",
    "lda_model = LdaModel(corpus=corpus,\n",
    "                     id2word=dictionary,\n",
    "                     num_topics=8,  # Experiment with different numbers of topics\n",
    "                     random_state=42,\n",
    "                     passes=5,\n",
    "                     alpha='auto',\n",
    "                     eta='auto')\n",
    "\n",
    "# Display the topics\n",
    "for idx, topic in lda_model.print_topics(-1):\n",
    "    print(f\"Topic {idx+1}: {topic}\")"
   ]
  },
  {
   "cell_type": "markdown",
   "id": "ed5c156f",
   "metadata": {},
   "source": [
    "<span style=\"font-size:20px\">Moving forward I will continue with the filtered dataset.</span>"
   ]
  },
  {
   "cell_type": "code",
   "execution_count": null,
   "id": "ff4ff2e2",
   "metadata": {},
   "outputs": [],
   "source": [
    "#Filter the news dataset for the articles that contain knowledge about NVidia.\n",
    "#These can be abbravations for Nvidia or just the name so this list contains words I'm searchinmg for in filtering the dataset\n",
    "#by checking if all content or title contain \"nvidia_terms\" list.\n",
    "nvidia_terms = [\n",
    "    'Nvidia', 'NVDA', 'N V D I A', 'Nvidia Corporation', 'NVIDIA Corp', \n",
    "    'NVIDIA GPUs', 'NVIDIA graphics', 'NVIDIA chip', 'NVIDIA cards', \n",
    "    'Nvidia GeForce', 'GeForce', 'Nvidia Quadro', 'NVIDIA AI', \n",
    "    'NVIDIA Tegra', 'Nvidia Drive', 'Nvidia RTX', 'RTX', \n",
    "    'NVIDIA DGX', 'NVIDIA Shield', 'CUDA', 'NVIDIA Jetson', \n",
    "    'NVIDIA Omniverse', 'NVIDIA Hopper', 'NVIDIA architecture',\n",
    "    'Nvidia hardware', 'Nvidia software', 'NVIDIA tech'\n",
    "]\n",
    "\n",
    "#Second filtering is applied to tickers to find the some companies that can affect the price. \n",
    "#My research shows AMD and Intel are the biggest competitors for Nvidia so I'm also including articles with ticker = 'AMD,INTC'\n",
    "filtered_news_df = news_df[\n",
    "    (news_df['title'].str.contains('|'.join(nvidia_terms), case=False, na=False)) |\n",
    "    (news_df['content'].str.contains('|'.join(nvidia_terms), case=False, na=False)) |\n",
    "    (news_df['ticker'].isin(['AMD', 'INTC']))  # Filter for AMD and Intel tickers\n",
    "]\n",
    "\n",
    "# Display the filtered DataFrame with Nvidia, AMD, and Intel related articles\n",
    "#print(filtered_news_df[['ticker', 'title', 'release_date']])\n"
   ]
  },
  {
   "cell_type": "code",
   "execution_count": 8,
   "id": "60f89a48",
   "metadata": {},
   "outputs": [
    {
     "data": {
      "text/html": [
       "<div>\n",
       "<style scoped>\n",
       "    .dataframe tbody tr th:only-of-type {\n",
       "        vertical-align: middle;\n",
       "    }\n",
       "\n",
       "    .dataframe tbody tr th {\n",
       "        vertical-align: top;\n",
       "    }\n",
       "\n",
       "    .dataframe thead th {\n",
       "        text-align: right;\n",
       "    }\n",
       "</style>\n",
       "<table border=\"1\" class=\"dataframe\">\n",
       "  <thead>\n",
       "    <tr style=\"text-align: right;\">\n",
       "      <th></th>\n",
       "      <th>id</th>\n",
       "      <th>ticker</th>\n",
       "      <th>title</th>\n",
       "      <th>category</th>\n",
       "      <th>content</th>\n",
       "      <th>release_date</th>\n",
       "      <th>provider</th>\n",
       "      <th>url</th>\n",
       "      <th>article_id</th>\n",
       "    </tr>\n",
       "  </thead>\n",
       "  <tbody>\n",
       "    <tr>\n",
       "      <th>24</th>\n",
       "      <td>221539</td>\n",
       "      <td>NIO</td>\n",
       "      <td>A Central Bank War Just Started And Its Good F...</td>\n",
       "      <td>opinion</td>\n",
       "      <td>ECB Effects\\nThe move in the euro was huge  fa...</td>\n",
       "      <td>2019-03-07</td>\n",
       "      <td>Michael Kramer</td>\n",
       "      <td>https://www.investing.com/analysis/a-central-b...</td>\n",
       "      <td>200395687</td>\n",
       "    </tr>\n",
       "    <tr>\n",
       "      <th>32</th>\n",
       "      <td>221547</td>\n",
       "      <td>NIO</td>\n",
       "      <td>6 Stocks To Watch  Nivida Could Be Falling</td>\n",
       "      <td>opinion</td>\n",
       "      <td>6 Stocks To Watch  March 6 Trading Session\\nSt...</td>\n",
       "      <td>2019-03-06</td>\n",
       "      <td>Michael Kramer</td>\n",
       "      <td>https://www.investing.com/analysis/6-stocks-to...</td>\n",
       "      <td>200394931</td>\n",
       "    </tr>\n",
       "    <tr>\n",
       "      <th>57</th>\n",
       "      <td>221572</td>\n",
       "      <td>NIO</td>\n",
       "      <td>Stocks   Dow Drops Nearly 400 Points as Apple ...</td>\n",
       "      <td>news</td>\n",
       "      <td>Investing com   A rout in Apple and Facebook  ...</td>\n",
       "      <td>2018-11-19</td>\n",
       "      <td>Investing.com</td>\n",
       "      <td>https://www.investing.com/news/stock-market-ne...</td>\n",
       "      <td>1694042</td>\n",
       "    </tr>\n",
       "    <tr>\n",
       "      <th>78</th>\n",
       "      <td>221593</td>\n",
       "      <td>UBER</td>\n",
       "      <td>The Zacks Analyst Blog Highlights  Advanced Mi...</td>\n",
       "      <td>opinion</td>\n",
       "      <td>For Immediate ReleaseChicago  IL   January 13 ...</td>\n",
       "      <td>2020-01-12</td>\n",
       "      <td>Zacks Investment Research</td>\n",
       "      <td>https://www.investing.com/analysis/the-zacks-a...</td>\n",
       "      <td>200498277</td>\n",
       "    </tr>\n",
       "    <tr>\n",
       "      <th>82</th>\n",
       "      <td>221597</td>\n",
       "      <td>UBER</td>\n",
       "      <td>The Best Of CES 2020  Revised</td>\n",
       "      <td>opinion</td>\n",
       "      <td>With 4 500 companies bringing their innovation...</td>\n",
       "      <td>2020-01-16</td>\n",
       "      <td>Zacks Investment Research</td>\n",
       "      <td>https://www.investing.com/analysis/the-best-of...</td>\n",
       "      <td>200499164</td>\n",
       "    </tr>\n",
       "    <tr>\n",
       "      <th>...</th>\n",
       "      <td>...</td>\n",
       "      <td>...</td>\n",
       "      <td>...</td>\n",
       "      <td>...</td>\n",
       "      <td>...</td>\n",
       "      <td>...</td>\n",
       "      <td>...</td>\n",
       "      <td>...</td>\n",
       "      <td>...</td>\n",
       "    </tr>\n",
       "    <tr>\n",
       "      <th>221198</th>\n",
       "      <td>442714</td>\n",
       "      <td>AMD</td>\n",
       "      <td>7 Tech Stocks With SMA50 Above SMA200 And High...</td>\n",
       "      <td>opinion</td>\n",
       "      <td>Recent Performance of the Stocks Mentioned Bel...</td>\n",
       "      <td>2012-12-07</td>\n",
       "      <td>Contextuall</td>\n",
       "      <td>https://www.investing.com/analysis/7-tech-stoc...</td>\n",
       "      <td>146575</td>\n",
       "    </tr>\n",
       "    <tr>\n",
       "      <th>221202</th>\n",
       "      <td>442718</td>\n",
       "      <td>AMD</td>\n",
       "      <td>Deceased Rubber Felines</td>\n",
       "      <td>opinion</td>\n",
       "      <td>Some of the most amazing gainers during this r...</td>\n",
       "      <td>2012-11-25</td>\n",
       "      <td>Tim Knight</td>\n",
       "      <td>https://www.investing.com/analysis/deceased-ru...</td>\n",
       "      <td>144821</td>\n",
       "    </tr>\n",
       "    <tr>\n",
       "      <th>221229</th>\n",
       "      <td>442745</td>\n",
       "      <td>PFE</td>\n",
       "      <td>Durata Therapeutics  DRTX  Pre IPO Report</td>\n",
       "      <td>opinion</td>\n",
       "      <td>Based in Morristown  NJ  Durata Therapeutics  ...</td>\n",
       "      <td>2012-07-19</td>\n",
       "      <td>Francis Gaskins</td>\n",
       "      <td>https://www.investing.com/analysis/durata-ther...</td>\n",
       "      <td>130084</td>\n",
       "    </tr>\n",
       "    <tr>\n",
       "      <th>221468</th>\n",
       "      <td>442984</td>\n",
       "      <td>T</td>\n",
       "      <td>Zacks com Featured Highlights  AT T  Nu Skin E...</td>\n",
       "      <td>opinion</td>\n",
       "      <td>For Immediate Release\\n\\nChicago  IL   July 22...</td>\n",
       "      <td>2016-07-21</td>\n",
       "      <td>Zacks Investment Research</td>\n",
       "      <td>https://www.investing.com/analysis/zacks.com-f...</td>\n",
       "      <td>200143537</td>\n",
       "    </tr>\n",
       "    <tr>\n",
       "      <th>221471</th>\n",
       "      <td>442987</td>\n",
       "      <td>T</td>\n",
       "      <td>5 Dividend Growth Stocks To Sail Through Uncer...</td>\n",
       "      <td>opinion</td>\n",
       "      <td>With uncertainty ruling the markets since the ...</td>\n",
       "      <td>2016-07-20</td>\n",
       "      <td>Zacks Investment Research</td>\n",
       "      <td>https://www.investing.com/analysis/5-dividend-...</td>\n",
       "      <td>200143306</td>\n",
       "    </tr>\n",
       "  </tbody>\n",
       "</table>\n",
       "<p>7256 rows × 9 columns</p>\n",
       "</div>"
      ],
      "text/plain": [
       "            id ticker                                              title  \\\n",
       "24      221539    NIO  A Central Bank War Just Started And Its Good F...   \n",
       "32      221547    NIO         6 Stocks To Watch  Nivida Could Be Falling   \n",
       "57      221572    NIO  Stocks   Dow Drops Nearly 400 Points as Apple ...   \n",
       "78      221593   UBER  The Zacks Analyst Blog Highlights  Advanced Mi...   \n",
       "82      221597   UBER                     The Best Of CES 2020  Revised    \n",
       "...        ...    ...                                                ...   \n",
       "221198  442714    AMD  7 Tech Stocks With SMA50 Above SMA200 And High...   \n",
       "221202  442718    AMD                           Deceased Rubber Felines    \n",
       "221229  442745    PFE          Durata Therapeutics  DRTX  Pre IPO Report   \n",
       "221468  442984      T  Zacks com Featured Highlights  AT T  Nu Skin E...   \n",
       "221471  442987      T  5 Dividend Growth Stocks To Sail Through Uncer...   \n",
       "\n",
       "       category                                            content  \\\n",
       "24      opinion  ECB Effects\\nThe move in the euro was huge  fa...   \n",
       "32      opinion  6 Stocks To Watch  March 6 Trading Session\\nSt...   \n",
       "57         news  Investing com   A rout in Apple and Facebook  ...   \n",
       "78      opinion  For Immediate ReleaseChicago  IL   January 13 ...   \n",
       "82      opinion  With 4 500 companies bringing their innovation...   \n",
       "...         ...                                                ...   \n",
       "221198  opinion  Recent Performance of the Stocks Mentioned Bel...   \n",
       "221202  opinion  Some of the most amazing gainers during this r...   \n",
       "221229  opinion  Based in Morristown  NJ  Durata Therapeutics  ...   \n",
       "221468  opinion  For Immediate Release\\n\\nChicago  IL   July 22...   \n",
       "221471  opinion  With uncertainty ruling the markets since the ...   \n",
       "\n",
       "       release_date                   provider  \\\n",
       "24       2019-03-07             Michael Kramer   \n",
       "32       2019-03-06             Michael Kramer   \n",
       "57       2018-11-19              Investing.com   \n",
       "78       2020-01-12  Zacks Investment Research   \n",
       "82       2020-01-16  Zacks Investment Research   \n",
       "...             ...                        ...   \n",
       "221198   2012-12-07                Contextuall   \n",
       "221202   2012-11-25                 Tim Knight   \n",
       "221229   2012-07-19            Francis Gaskins   \n",
       "221468   2016-07-21  Zacks Investment Research   \n",
       "221471   2016-07-20  Zacks Investment Research   \n",
       "\n",
       "                                                      url  article_id  \n",
       "24      https://www.investing.com/analysis/a-central-b...   200395687  \n",
       "32      https://www.investing.com/analysis/6-stocks-to...   200394931  \n",
       "57      https://www.investing.com/news/stock-market-ne...     1694042  \n",
       "78      https://www.investing.com/analysis/the-zacks-a...   200498277  \n",
       "82      https://www.investing.com/analysis/the-best-of...   200499164  \n",
       "...                                                   ...         ...  \n",
       "221198  https://www.investing.com/analysis/7-tech-stoc...      146575  \n",
       "221202  https://www.investing.com/analysis/deceased-ru...      144821  \n",
       "221229  https://www.investing.com/analysis/durata-ther...      130084  \n",
       "221468  https://www.investing.com/analysis/zacks.com-f...   200143537  \n",
       "221471  https://www.investing.com/analysis/5-dividend-...   200143306  \n",
       "\n",
       "[7256 rows x 9 columns]"
      ]
     },
     "execution_count": 8,
     "metadata": {},
     "output_type": "execute_result"
    }
   ],
   "source": [
    "filtered_news_df"
   ]
  },
  {
   "cell_type": "code",
   "execution_count": 10,
   "id": "e3445c8e",
   "metadata": {},
   "outputs": [],
   "source": [
    "processed_texts_filtered = filtered_news_df['processed_text']"
   ]
  },
  {
   "cell_type": "code",
   "execution_count": 16,
   "id": "ba8270a0",
   "metadata": {},
   "outputs": [
    {
     "data": {
      "text/plain": [
       "0       ecb effect move euro huge falling pip huge imp...\n",
       "1       stock watch march trading session stock stock ...\n",
       "2       investing com rout apple facebook nasdaq fb mo...\n",
       "3       immediate releasechicago il january zacks com ...\n",
       "4       company bringing innovation ce jan get really ...\n",
       "                              ...                        \n",
       "7251    recent performance stock mentioned average wee...\n",
       "7252    amazing gainer recent counter trend rally stea...\n",
       "7253    based morristown nj durata therapeutic drtx sc...\n",
       "7254    immediate release chicago il july stock week a...\n",
       "7255    uncertainty ruling market since beginning year...\n",
       "Name: processed_text, Length: 7256, dtype: object"
      ]
     },
     "execution_count": 16,
     "metadata": {},
     "output_type": "execute_result"
    }
   ],
   "source": [
    "processed_texts_filtered"
   ]
  },
  {
   "cell_type": "code",
   "execution_count": null,
   "id": "376a555c",
   "metadata": {
    "scrolled": false
   },
   "outputs": [],
   "source": [
    "# Apply preprocessing and save to a new column in the DataFrame\n",
    "filtered_news_df['processed_content'] = filtered_news_df['content'].apply(preprocess)"
   ]
  },
  {
   "cell_type": "code",
   "execution_count": 4,
   "id": "5a48508f",
   "metadata": {},
   "outputs": [],
   "source": [
    "filtered_news_df = pd.read_csv('filtered_processed_df.csv')"
   ]
  },
  {
   "cell_type": "code",
   "execution_count": 17,
   "id": "4f7d8f1f",
   "metadata": {},
   "outputs": [],
   "source": [
    "# Tokenize each document\n",
    "processed_texts_input = [doc.split() for doc in processed_texts_filtered]\n",
    "\n",
    "# Create Dictionary\n",
    "dictionary_filtered = Dictionary(processed_texts_input)\n",
    "\n",
    "# Filter extremes (optional)\n",
    "dictionary_filtered.filter_extremes(no_below=5, no_above=0.5)"
   ]
  },
  {
   "cell_type": "code",
   "execution_count": 23,
   "id": "55f19795",
   "metadata": {},
   "outputs": [],
   "source": [
    "start, limit = 4,10\n",
    "# Run the function and save models\n",
    "model_list_filtered, coherence_values_filtered = compute_coherence_values_passes_5(dictionary=dictionary_filtered,\n",
    "                                                                                   corpus=corpus_filtered, \n",
    "                                                                                   texts=processed_texts_filtered, \n",
    "                                                                                   start=4, \n",
    "                                                                                   limit=10)\n"
   ]
  },
  {
   "cell_type": "code",
   "execution_count": 25,
   "id": "374ee087",
   "metadata": {},
   "outputs": [
    {
     "data": {
      "image/png": "[encoded data removed]",
      "text/plain": [
       "<Figure size 640x480 with 1 Axes>"
      ]
     },
     "metadata": {},
     "output_type": "display_data"
    }
   ],
   "source": [
    "\n",
    "# Plot coherence values\n",
    "x = range(4, 10)\n",
    "plt.plot(x, coherence_values_filtered)\n",
    "plt.xlabel(\"Number of Topics\")\n",
    "plt.ylabel(\"Coherence Score\")\n",
    "plt.title(\"Optimal Number of Topics\")\n",
    "plt.show()"
   ]
  },
  {
   "cell_type": "code",
   "execution_count": 26,
   "id": "34f07b25",
   "metadata": {},
   "outputs": [
    {
     "data": {
      "image/png": "[encoded data removed]",
      "text/plain": [
       "<Figure size 640x480 with 1 Axes>"
      ]
     },
     "metadata": {},
     "output_type": "display_data"
    }
   ],
   "source": [
    "model_list_filtered, coherence_values_filtered = compute_coherence_values_passes_5(dictionary=dictionary_filtered, \n",
    "                                                                                   corpus=corpus_filtered, \n",
    "                                                                                   texts=processed_texts_filtered, \n",
    "                                                                                   start=1, \n",
    "                                                                                   limit=4)\n",
    "x = range(1,4)\n",
    "plt.plot(x, coherence_values_filtered)\n",
    "plt.xlabel(\"Number of Topics\")\n",
    "plt.ylabel(\"Coherence Score\")\n",
    "plt.title(\"Optimal Number of Topics\")\n",
    "plt.show()"
   ]
  },
  {
   "cell_type": "code",
   "execution_count": 32,
   "id": "effbebc3",
   "metadata": {},
   "outputs": [
    {
     "data": {
      "image/png": "[encoded data removed]",
      "text/plain": [
       "<Figure size 640x480 with 1 Axes>"
      ]
     },
     "metadata": {},
     "output_type": "display_data"
    }
   ],
   "source": [
    "model_list_filtered, coherence_values_filtered = compute_coherence_values_step_10(dictionary=dictionary_filtered, \n",
    "                                                                                  corpus=corpus_filtered, \n",
    "                                                                                  texts=processed_texts_filtered, \n",
    "                                                                                  start=4, \n",
    "                                                                                  limit=10)\n",
    "x = range(4,10)\n",
    "plt.plot(x, coherence_values_filtered)\n",
    "plt.xlabel(\"Number of Topics\")\n",
    "plt.ylabel(\"Coherence Score\")\n",
    "plt.title(\"Optimal Number of Topics\")\n",
    "plt.show()"
   ]
  },
  {
   "cell_type": "code",
   "execution_count": 23,
   "id": "070b2a39",
   "metadata": {},
   "outputs": [
    {
     "name": "stdout",
     "output_type": "stream",
     "text": [
      "Topic 0: 0.020*\"quarter\" + 0.017*\"revenue\" + 0.016*\"zacks\" + 0.012*\"million\" + 0.011*\"nvidia\" + 0.010*\"growth\" + 0.010*\"billion\" + 0.008*\"estimate\" + 0.008*\"rank\" + 0.007*\"per\"\n",
      "Topic 1: 0.026*\"zacks\" + 0.011*\"estimate\" + 0.010*\"rank\" + 0.010*\"investment\" + 0.008*\"quarter\" + 0.008*\"growth\" + 0.007*\"research\" + 0.006*\"industry\" + 0.006*\"buy\" + 0.006*\"analyst\"\n",
      "Topic 2: 0.070*\"inc\" + 0.024*\"close\" + 0.022*\"rose\" + 0.020*\"performer\" + 0.020*\"corporation\" + 0.019*\"point\" + 0.018*\"fell\" + 0.017*\"trade\" + 0.015*\"index\" + 0.013*\"dow\"\n",
      "Topic 3: 0.019*\"apple\" + 0.019*\"chip\" + 0.014*\"qualcomm\" + 0.011*\"said\" + 0.009*\"google\" + 0.008*\"billion\" + 0.008*\"inc\" + 0.007*\"semiconductor\" + 0.007*\"device\" + 0.006*\"analyst\"\n",
      "Topic 4: 0.047*\"percent\" + 0.012*\"div\" + 0.009*\"class\" + 0.005*\"strong\" + 0.004*\"span\" + 0.004*\"target\" + 0.004*\"id\" + 0.003*\"px\" + 0.003*\"href\" + 0.003*\"price\"\n",
      "Topic 5: 0.008*\"week\" + 0.007*\"investor\" + 0.007*\"day\" + 0.007*\"time\" + 0.006*\"one\" + 0.006*\"price\" + 0.005*\"like\" + 0.005*\"high\" + 0.005*\"trading\" + 0.005*\"look\"\n",
      "Topic 6: 0.014*\"said\" + 0.006*\"car\" + 0.006*\"driving\" + 0.005*\"vehicle\" + 0.005*\"self\" + 0.005*\"would\" + 0.004*\"system\" + 0.004*\"china\" + 0.004*\"security\" + 0.004*\"one\"\n",
      "Topic 7: 0.009*\"index\" + 0.008*\"week\" + 0.008*\"trade\" + 0.007*\"day\" + 0.006*\"data\" + 0.006*\"report\" + 0.006*\"rate\" + 0.006*\"expected\" + 0.006*\"china\" + 0.006*\"rose\"\n",
      "\n",
      "Coherence Score: 0.5503378796689479\n"
     ]
    }
   ],
   "source": [
    "from gensim.models import LdaModel\n",
    "from gensim.models.coherencemodel import CoherenceModel\n",
    "\n",
    "corpus = [dictionary_filtered.doc2bow(doc) for doc in processed_texts_input]\n",
    "\n",
    "lda_model = LdaModel(corpus=corpus, id2word=dictionary_filtered, num_topics=8, random_state=42, passes=5, alpha='auto', eta='auto')\n",
    "\n",
    "for idx, topic in lda_model.print_topics(-1):\n",
    "    print(f\"Topic {idx+1}: {topic}\")\n",
    "\n",
    "# Optional Step 4: Calculate coherence score to evaluate the model\n",
    "coherence_model_lda = CoherenceModel(model=lda_model, texts=processed_texts_input, dictionary=dictionary_filtered, coherence='c_v')\n",
    "coherence_lda = coherence_model_lda.get_coherence()\n",
    "print('\\nCoherence Score:', coherence_lda)"
   ]
  },
  {
   "cell_type": "code",
   "execution_count": 44,
   "id": "acc81ab6",
   "metadata": {},
   "outputs": [],
   "source": [
    "new_df = pd.read_csv('data_cleaned.csv')"
   ]
  },
  {
   "cell_type": "code",
   "execution_count": 46,
   "id": "3005bfd6",
   "metadata": {},
   "outputs": [
    {
     "data": {
      "text/html": [
       "<div>\n",
       "<style scoped>\n",
       "    .dataframe tbody tr th:only-of-type {\n",
       "        vertical-align: middle;\n",
       "    }\n",
       "\n",
       "    .dataframe tbody tr th {\n",
       "        vertical-align: top;\n",
       "    }\n",
       "\n",
       "    .dataframe thead th {\n",
       "        text-align: right;\n",
       "    }\n",
       "</style>\n",
       "<table border=\"1\" class=\"dataframe\">\n",
       "  <thead>\n",
       "    <tr style=\"text-align: right;\">\n",
       "      <th></th>\n",
       "      <th>id</th>\n",
       "      <th>ticker</th>\n",
       "      <th>title</th>\n",
       "      <th>category</th>\n",
       "      <th>content</th>\n",
       "      <th>release_date</th>\n",
       "      <th>provider</th>\n",
       "      <th>url</th>\n",
       "      <th>article_id</th>\n",
       "      <th>word_count</th>\n",
       "      <th>tokens</th>\n",
       "    </tr>\n",
       "  </thead>\n",
       "  <tbody>\n",
       "    <tr>\n",
       "      <th>0</th>\n",
       "      <td>221539</td>\n",
       "      <td>NIO</td>\n",
       "      <td>A Central Bank War Just Started And Its Good F...</td>\n",
       "      <td>opinion</td>\n",
       "      <td>ecb move euro huge falling pips huge important...</td>\n",
       "      <td>2019-03-07</td>\n",
       "      <td>Michael Kramer</td>\n",
       "      <td>https://www.investing.com/analysis/a-central-b...</td>\n",
       "      <td>200395687</td>\n",
       "      <td>784</td>\n",
       "      <td>['ecb', 'move', 'euro', 'huge', 'falling', 'pi...</td>\n",
       "    </tr>\n",
       "    <tr>\n",
       "      <th>1</th>\n",
       "      <td>221547</td>\n",
       "      <td>NIO</td>\n",
       "      <td>6 Stocks To Watch  Nivida Could Be Falling</td>\n",
       "      <td>opinion</td>\n",
       "      <td>stocks watch march trading went pretty much no...</td>\n",
       "      <td>2019-03-06</td>\n",
       "      <td>Michael Kramer</td>\n",
       "      <td>https://www.investing.com/analysis/6-stocks-to...</td>\n",
       "      <td>200394931</td>\n",
       "      <td>618</td>\n",
       "      <td>['stocks', 'watch', 'march', 'trading', 'went'...</td>\n",
       "    </tr>\n",
       "    <tr>\n",
       "      <th>2</th>\n",
       "      <td>221572</td>\n",
       "      <td>NIO</td>\n",
       "      <td>Stocks   Dow Drops Nearly 400 Points as Apple ...</td>\n",
       "      <td>news</td>\n",
       "      <td>investing com rout apple facebook fb monday sw...</td>\n",
       "      <td>2018-11-19</td>\n",
       "      <td>Investing.com</td>\n",
       "      <td>https://www.investing.com/news/stock-market-ne...</td>\n",
       "      <td>1694042</td>\n",
       "      <td>578</td>\n",
       "      <td>['investing', 'com', 'rout', 'apple', 'faceboo...</td>\n",
       "    </tr>\n",
       "    <tr>\n",
       "      <th>3</th>\n",
       "      <td>221593</td>\n",
       "      <td>UBER</td>\n",
       "      <td>The Zacks Analyst Blog Highlights  Advanced Mi...</td>\n",
       "      <td>opinion</td>\n",
       "      <td>immediate releasechicago il january com announ...</td>\n",
       "      <td>2020-01-12</td>\n",
       "      <td>Zacks Investment Research</td>\n",
       "      <td>https://www.investing.com/analysis/the-zacks-a...</td>\n",
       "      <td>200498277</td>\n",
       "      <td>1849</td>\n",
       "      <td>['immediate', 'releasechicago', 'il', 'january...</td>\n",
       "    </tr>\n",
       "    <tr>\n",
       "      <th>4</th>\n",
       "      <td>221597</td>\n",
       "      <td>UBER</td>\n",
       "      <td>The Best Of CES 2020  Revised</td>\n",
       "      <td>opinion</td>\n",
       "      <td>companies bringing innovations ces jan gets re...</td>\n",
       "      <td>2020-01-16</td>\n",
       "      <td>Zacks Investment Research</td>\n",
       "      <td>https://www.investing.com/analysis/the-best-of...</td>\n",
       "      <td>200499164</td>\n",
       "      <td>1515</td>\n",
       "      <td>['companies', 'bringing', 'innovations', 'ces'...</td>\n",
       "    </tr>\n",
       "  </tbody>\n",
       "</table>\n",
       "</div>"
      ],
      "text/plain": [
       "       id ticker                                              title category  \\\n",
       "0  221539    NIO  A Central Bank War Just Started And Its Good F...  opinion   \n",
       "1  221547    NIO         6 Stocks To Watch  Nivida Could Be Falling  opinion   \n",
       "2  221572    NIO  Stocks   Dow Drops Nearly 400 Points as Apple ...     news   \n",
       "3  221593   UBER  The Zacks Analyst Blog Highlights  Advanced Mi...  opinion   \n",
       "4  221597   UBER                     The Best Of CES 2020  Revised   opinion   \n",
       "\n",
       "                                             content release_date  \\\n",
       "0  ecb move euro huge falling pips huge important...   2019-03-07   \n",
       "1  stocks watch march trading went pretty much no...   2019-03-06   \n",
       "2  investing com rout apple facebook fb monday sw...   2018-11-19   \n",
       "3  immediate releasechicago il january com announ...   2020-01-12   \n",
       "4  companies bringing innovations ces jan gets re...   2020-01-16   \n",
       "\n",
       "                    provider  \\\n",
       "0             Michael Kramer   \n",
       "1             Michael Kramer   \n",
       "2              Investing.com   \n",
       "3  Zacks Investment Research   \n",
       "4  Zacks Investment Research   \n",
       "\n",
       "                                                 url  article_id  word_count  \\\n",
       "0  https://www.investing.com/analysis/a-central-b...   200395687         784   \n",
       "1  https://www.investing.com/analysis/6-stocks-to...   200394931         618   \n",
       "2  https://www.investing.com/news/stock-market-ne...     1694042         578   \n",
       "3  https://www.investing.com/analysis/the-zacks-a...   200498277        1849   \n",
       "4  https://www.investing.com/analysis/the-best-of...   200499164        1515   \n",
       "\n",
       "                                              tokens  \n",
       "0  ['ecb', 'move', 'euro', 'huge', 'falling', 'pi...  \n",
       "1  ['stocks', 'watch', 'march', 'trading', 'went'...  \n",
       "2  ['investing', 'com', 'rout', 'apple', 'faceboo...  \n",
       "3  ['immediate', 'releasechicago', 'il', 'january...  \n",
       "4  ['companies', 'bringing', 'innovations', 'ces'...  "
      ]
     },
     "execution_count": 46,
     "metadata": {},
     "output_type": "execute_result"
    }
   ],
   "source": [
    "new_df.head(5)"
   ]
  },
  {
   "cell_type": "code",
   "execution_count": 47,
   "id": "27130a4b",
   "metadata": {},
   "outputs": [],
   "source": [
    "processed_texts_filtered = new_df['content']"
   ]
  },
  {
   "cell_type": "code",
   "execution_count": 48,
   "id": "f15d5430",
   "metadata": {},
   "outputs": [],
   "source": [
    "# Tokenize each document\n",
    "processed_texts_input = [doc.split() for doc in processed_texts_filtered]\n",
    "\n",
    "# Create Dictionary\n",
    "dictionary_filtered = Dictionary(processed_texts_input)\n",
    "\n",
    "# Filter extremes (optional)\n",
    "dictionary_filtered.filter_extremes(no_below=5, no_above=0.5)"
   ]
  },
  {
   "cell_type": "code",
   "execution_count": 49,
   "id": "7894391b",
   "metadata": {},
   "outputs": [
    {
     "name": "stdout",
     "output_type": "stream",
     "text": [
      "Topic 1: 0.016*\"amd\" + 0.013*\"etf\" + 0.011*\"semiconductor\" + 0.008*\"fund\" + 0.006*\"index\" + 0.005*\"top\" + 0.005*\"read\" + 0.005*\"around\" + 0.005*\"higher\" + 0.005*\"etfs\"\n",
      "Topic 2: 0.013*\"analyst\" + 0.008*\"today\" + 0.007*\"research\" + 0.006*\"inc\" + 0.005*\"reports\" + 0.005*\"like\" + 0.005*\"time\" + 0.004*\"portfolio\" + 0.004*\"well\" + 0.004*\"business\"\n",
      "Topic 3: 0.016*\"million\" + 0.013*\"revenues\" + 0.009*\"rank\" + 0.008*\"share\" + 0.008*\"consensus\" + 0.008*\"per\" + 0.007*\"estimate\" + 0.005*\"cents\" + 0.005*\"fiscal\" + 0.005*\"reported\"\n",
      "Topic 4: 0.008*\"intel\" + 0.006*\"said\" + 0.006*\"driving\" + 0.005*\"ai\" + 0.005*\"data\" + 0.005*\"apple\" + 0.004*\"self\" + 0.004*\"chips\" + 0.004*\"like\" + 0.004*\"google\"\n",
      "Topic 5: 0.009*\"trade\" + 0.008*\"week\" + 0.006*\"index\" + 0.005*\"percent\" + 0.005*\"china\" + 0.005*\"day\" + 0.005*\"rose\" + 0.005*\"fell\" + 0.005*\"since\" + 0.004*\"traded\"\n",
      "Topic 6: 0.015*\"revenue\" + 0.010*\"share\" + 0.009*\"investors\" + 0.008*\"sales\" + 0.007*\"per\" + 0.006*\"estimates\" + 0.006*\"industry\" + 0.006*\"report\" + 0.005*\"said\" + 0.005*\"consensus\"\n",
      "Topic 7: 0.015*\"investment\" + 0.015*\"rank\" + 0.008*\"estimate\" + 0.008*\"research\" + 0.007*\"current\" + 0.007*\"industry\" + 0.006*\"consensus\" + 0.005*\"past\" + 0.005*\"may\" + 0.005*\"performance\"\n",
      "Topic 8: 0.009*\"trading\" + 0.008*\"day\" + 0.008*\"index\" + 0.008*\"tech\" + 0.007*\"week\" + 0.007*\"estimates\" + 0.006*\"sector\" + 0.005*\"results\" + 0.005*\"higher\" + 0.005*\"time\"\n",
      "\n",
      "Coherence Score: 0.4726312160384397\n"
     ]
    }
   ],
   "source": [
    "from gensim.models import LdaModel\n",
    "from gensim.models.coherencemodel import CoherenceModel\n",
    "\n",
    "corpus = [dictionary_filtered.doc2bow(doc) for doc in processed_texts_input]\n",
    "\n",
    "lda_model = LdaModel(corpus=corpus, id2word=dictionary_filtered, num_topics=8, random_state=42, passes=5, alpha='auto', eta='auto')\n",
    "\n",
    "for idx, topic in lda_model.print_topics(-1):\n",
    "    print(f\"Topic {idx+1}: {topic}\")\n",
    "\n",
    "# Optional Step 4: Calculate coherence score to evaluate the model\n",
    "coherence_model_lda = CoherenceModel(model=lda_model, texts=processed_texts_input, dictionary=dictionary_filtered, coherence='c_v')\n",
    "coherence_lda = coherence_model_lda.get_coherence()\n",
    "print('\\nCoherence Score:', coherence_lda)"
   ]
  },
  {
   "cell_type": "code",
   "execution_count": null,
   "id": "26202928",
   "metadata": {},
   "outputs": [],
   "source": []
  }
 ],
 "metadata": {
  "kernelspec": {
   "display_name": "Python [conda env:my_nlp_env] *",
   "language": "python",
   "name": "conda-env-my_nlp_env-py"
  },
  "language_info": {
   "codemirror_mode": {
    "name": "ipython",
    "version": 3
   },
   "file_extension": ".py",
   "mimetype": "text/x-python",
   "name": "python",
   "nbconvert_exporter": "python",
   "pygments_lexer": "ipython3",
   "version": "3.12.4"
  }
 },
 "nbformat": 4,
 "nbformat_minor": 5
}
